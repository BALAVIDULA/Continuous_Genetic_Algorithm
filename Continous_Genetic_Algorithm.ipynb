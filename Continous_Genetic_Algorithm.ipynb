{
  "nbformat": 4,
  "nbformat_minor": 0,
  "metadata": {
    "colab": {
      "provenance": []
    },
    "kernelspec": {
      "name": "python3",
      "display_name": "Python 3"
    },
    "language_info": {
      "name": "python"
    }
  },
  "cells": [
    {
      "cell_type": "code",
      "execution_count": 1,
      "metadata": {
        "colab": {
          "base_uri": "https://localhost:8080/"
        },
        "id": "FRM4f6WGw-SK",
        "outputId": "b4cafb2e-588b-430e-9ba1-cf1490f1d03a"
      },
      "outputs": [
        {
          "output_type": "stream",
          "name": "stdout",
          "text": [
            "Optimal Solution:\n",
            "x = 9.830075173523898\n",
            "y = 7.09437440241923\n",
            "Cost = 17.61102892367039\n"
          ]
        }
      ],
      "source": [
        "import numpy as np\n",
        "import math\n",
        "\n",
        "# Define the objective function\n",
        "def objective_function(x, y):\n",
        "    return x * np.sin(4 * x) + 1.1 * y * np.sin(2 * y)\n",
        "\n",
        "# Define the constraints\n",
        "def is_valid_solution(x, y):\n",
        "    return 0 <= x <= 10 and 0 <= y <= 10\n",
        "\n",
        "# Define the bounds for x and y\n",
        "x_min, x_max = 0, 10\n",
        "y_min, y_max = 0, 10\n",
        "\n",
        "# Define the GA parameters\n",
        "population_size = 50\n",
        "num_variables = 2\n",
        "mutation_rate = 0.1\n",
        "num_generations = 100\n",
        "\n",
        "# Initialize the population\n",
        "population = np.random.uniform(low=[x_min, y_min], high=[x_max, y_max], size=(population_size, num_variables))\n",
        "\n",
        "# Main loop\n",
        "for generation in range(num_generations):\n",
        "    # Evaluate fitness\n",
        "    fitness_values = [objective_function(sol[0], sol[1]) for sol in population]\n",
        "\n",
        "    # Adjust fitness values to be non-negative\n",
        "    min_fitness = min(fitness_values)\n",
        "    if min_fitness < 0:\n",
        "        fitness_values = [fitness + abs(min_fitness) for fitness in fitness_values]\n",
        "\n",
        "    # Selection: Roulette wheel selection\n",
        "    total_fitness = np.sum(fitness_values)\n",
        "    probabilities = fitness_values / total_fitness\n",
        "    selected_indices = np.random.choice(population_size, size=population_size, p=probabilities, replace=True)\n",
        "    selected_population = population[selected_indices]\n",
        "\n",
        "    # Crossover: Single-point crossover\n",
        "    crossover_points = np.random.randint(1, num_variables, size=population_size // 2)\n",
        "    offspring_population = []\n",
        "    for i in range(0, population_size, 2):\n",
        "        parent1, parent2 = selected_population[i], selected_population[i + 1]\n",
        "        crossover_point = crossover_points[i // 2]\n",
        "        child1 = np.concatenate((parent1[:crossover_point], parent2[crossover_point:]))\n",
        "        child2 = np.concatenate((parent2[:crossover_point], parent1[crossover_point:]))\n",
        "        offspring_population.extend([child1, child2])\n",
        "    offspring_population = np.array(offspring_population)\n",
        "\n",
        "    # Mutation\n",
        "    mutation_mask = np.random.rand(population_size, num_variables) < mutation_rate\n",
        "    mutation_change = np.random.uniform(low=-0.1, high=0.1, size=(population_size, num_variables))\n",
        "    offspring_population = np.where(mutation_mask, offspring_population + mutation_change, offspring_population)\n",
        "\n",
        "    # Replace the current population with offspring\n",
        "    population = offspring_population\n",
        "\n",
        "# Find the best solution\n",
        "best_index = np.argmax([objective_function(sol[0], sol[1]) for sol in population])\n",
        "best_solution = population[best_index]\n",
        "best_x, best_y = best_solution[0], best_solution[1]\n",
        "best_fitness = objective_function(best_x, best_y)\n",
        "\n",
        "print(\"Optimal Solution:\")\n",
        "print(\"x =\", best_x)\n",
        "print(\"y =\", best_y)\n",
        "print(\"Cost =\", best_fitness)\n"
      ]
    },
    {
      "cell_type": "code",
      "source": [
        "population"
      ],
      "metadata": {
        "colab": {
          "base_uri": "https://localhost:8080/"
        },
        "id": "1MS84RLxxGay",
        "outputId": "e41c30f5-67c7-4245-c404-a0946c589a8d"
      },
      "execution_count": 2,
      "outputs": [
        {
          "output_type": "execute_result",
          "data": {
            "text/plain": [
              "array([[9.81339194, 6.97442581],\n",
              "       [9.78499903, 7.23647428],\n",
              "       [9.6630001 , 7.23647428],\n",
              "       [9.84998295, 7.49048259],\n",
              "       [9.7610298 , 6.93417604],\n",
              "       [9.77531238, 6.99881985],\n",
              "       [9.77931444, 6.97691543],\n",
              "       [9.77531238, 7.24828569],\n",
              "       [9.84998295, 7.23647428],\n",
              "       [9.7610298 , 7.23647428],\n",
              "       [9.7610298 , 7.02136053],\n",
              "       [9.7610298 , 7.32157277],\n",
              "       [9.74500526, 7.06493222],\n",
              "       [9.7610298 , 7.07059651],\n",
              "       [9.81339194, 7.07562314],\n",
              "       [9.7610298 , 7.32157277],\n",
              "       [9.7610298 , 7.24828569],\n",
              "       [9.77931444, 7.07059651],\n",
              "       [9.81339194, 7.07059651],\n",
              "       [9.7610298 , 7.23647428],\n",
              "       [9.7610298 , 7.23647428],\n",
              "       [9.97199203, 7.13924396],\n",
              "       [9.81339194, 6.99281365],\n",
              "       [9.74500526, 6.97691543],\n",
              "       [9.7610298 , 7.38367189],\n",
              "       [9.72547279, 7.23647428],\n",
              "       [9.78499903, 7.07059651],\n",
              "       [9.7610298 , 7.23647428],\n",
              "       [9.77931444, 7.13924396],\n",
              "       [9.79373581, 7.24828569],\n",
              "       [9.69833339, 7.15663633],\n",
              "       [9.83007517, 7.30604641],\n",
              "       [9.78499903, 7.06493222],\n",
              "       [9.7610298 , 7.23647428],\n",
              "       [9.77308687, 7.23647428],\n",
              "       [9.78499903, 7.24828569],\n",
              "       [9.7610298 , 6.97442581],\n",
              "       [9.78499903, 7.39071209],\n",
              "       [9.78499903, 7.23647428],\n",
              "       [9.69833339, 7.23647428],\n",
              "       [9.7610298 , 7.02136053],\n",
              "       [9.7610298 , 7.23647428],\n",
              "       [9.81339194, 7.23647428],\n",
              "       [9.74500526, 6.94914749],\n",
              "       [9.83007517, 7.0943744 ],\n",
              "       [9.74500526, 7.15663633],\n",
              "       [9.77531238, 6.93417604],\n",
              "       [9.70726216, 6.99281365],\n",
              "       [9.81339194, 7.32157277],\n",
              "       [9.74500526, 7.23647428]])"
            ]
          },
          "metadata": {},
          "execution_count": 2
        }
      ]
    }
  ]
}